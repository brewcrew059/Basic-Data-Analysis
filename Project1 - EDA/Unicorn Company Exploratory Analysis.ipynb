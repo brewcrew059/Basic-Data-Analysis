{
 "cells": [
  {
   "cell_type": "markdown",
   "id": "04533a74",
   "metadata": {},
   "source": [
    "# **Unicorn Company Exploratory Data Analysis**"
   ]
  },
  {
   "cell_type": "markdown",
   "id": "5882109e",
   "metadata": {},
   "source": [
    "### A unicorn company/startup is a private company with a valuation over  \\\\$1 billion. The following Kaggle dataset contains a list of such unicorns along with data about each. We will be exploring and analyzing this data."
   ]
  },
  {
   "cell_type": "code",
   "execution_count": 275,
   "id": "65357841",
   "metadata": {},
   "outputs": [],
   "source": [
    "import pandas as pd\n",
    "import numpy as np\n",
    "import seaborn as sns\n",
    "import matplotlib.pyplot as plt"
   ]
  },
  {
   "cell_type": "markdown",
   "id": "900b2b5d",
   "metadata": {},
   "source": [
    "### Import Data"
   ]
  },
  {
   "cell_type": "code",
   "execution_count": 276,
   "id": "9d802497",
   "metadata": {},
   "outputs": [],
   "source": [
    "df = pd.read_csv('Unicorn_Companies.csv')"
   ]
  },
  {
   "cell_type": "code",
   "execution_count": 277,
   "id": "ebbfc63e",
   "metadata": {
    "scrolled": true
   },
   "outputs": [
    {
     "data": {
      "text/html": [
       "<div>\n",
       "<style scoped>\n",
       "    .dataframe tbody tr th:only-of-type {\n",
       "        vertical-align: middle;\n",
       "    }\n",
       "\n",
       "    .dataframe tbody tr th {\n",
       "        vertical-align: top;\n",
       "    }\n",
       "\n",
       "    .dataframe thead th {\n",
       "        text-align: right;\n",
       "    }\n",
       "</style>\n",
       "<table border=\"1\" class=\"dataframe\">\n",
       "  <thead>\n",
       "    <tr style=\"text-align: right;\">\n",
       "      <th></th>\n",
       "      <th>Company</th>\n",
       "      <th>Valuation ($B)</th>\n",
       "      <th>Date Joined</th>\n",
       "      <th>Country</th>\n",
       "      <th>City</th>\n",
       "      <th>Industry</th>\n",
       "      <th>Select Inverstors</th>\n",
       "      <th>Founded Year</th>\n",
       "      <th>Total Raised</th>\n",
       "      <th>Financial Stage</th>\n",
       "      <th>Investors Count</th>\n",
       "      <th>Deal Terms</th>\n",
       "      <th>Portfolio Exits</th>\n",
       "    </tr>\n",
       "  </thead>\n",
       "  <tbody>\n",
       "    <tr>\n",
       "      <th>0</th>\n",
       "      <td>Bytedance</td>\n",
       "      <td>$140</td>\n",
       "      <td>4/7/2017</td>\n",
       "      <td>China</td>\n",
       "      <td>Beijing</td>\n",
       "      <td>Artificial intelligence</td>\n",
       "      <td>Sequoia Capital China, SIG Asia Investments, S...</td>\n",
       "      <td>2012</td>\n",
       "      <td>$7.44B</td>\n",
       "      <td>IPO</td>\n",
       "      <td>28</td>\n",
       "      <td>8</td>\n",
       "      <td>5</td>\n",
       "    </tr>\n",
       "    <tr>\n",
       "      <th>1</th>\n",
       "      <td>SpaceX</td>\n",
       "      <td>$100.30</td>\n",
       "      <td>12/1/2012</td>\n",
       "      <td>United States</td>\n",
       "      <td>Hawthorne</td>\n",
       "      <td>Other</td>\n",
       "      <td>Founders Fund, Draper Fisher Jurvetson, Rothen...</td>\n",
       "      <td>2002</td>\n",
       "      <td>$6.874B</td>\n",
       "      <td>None</td>\n",
       "      <td>29</td>\n",
       "      <td>12</td>\n",
       "      <td>None</td>\n",
       "    </tr>\n",
       "    <tr>\n",
       "      <th>2</th>\n",
       "      <td>Stripe</td>\n",
       "      <td>$95</td>\n",
       "      <td>1/23/2014</td>\n",
       "      <td>United States</td>\n",
       "      <td>San Francisco</td>\n",
       "      <td>Fintech</td>\n",
       "      <td>Khosla Ventures, LowercaseCapital, capitalG</td>\n",
       "      <td>2010</td>\n",
       "      <td>$2.901B</td>\n",
       "      <td>Asset</td>\n",
       "      <td>39</td>\n",
       "      <td>12</td>\n",
       "      <td>1</td>\n",
       "    </tr>\n",
       "    <tr>\n",
       "      <th>3</th>\n",
       "      <td>Klarna</td>\n",
       "      <td>$45.60</td>\n",
       "      <td>12/12/2011</td>\n",
       "      <td>Sweden</td>\n",
       "      <td>Stockholm</td>\n",
       "      <td>Fintech</td>\n",
       "      <td>Institutional Venture Partners, Sequoia Capita...</td>\n",
       "      <td>2005</td>\n",
       "      <td>$3.472B</td>\n",
       "      <td>Acquired</td>\n",
       "      <td>56</td>\n",
       "      <td>13</td>\n",
       "      <td>1</td>\n",
       "    </tr>\n",
       "    <tr>\n",
       "      <th>4</th>\n",
       "      <td>Epic Games</td>\n",
       "      <td>$42</td>\n",
       "      <td>10/26/2018</td>\n",
       "      <td>United States</td>\n",
       "      <td>Cary</td>\n",
       "      <td>Other</td>\n",
       "      <td>Tencent Holdings, KKR, Smash Ventures</td>\n",
       "      <td>1991</td>\n",
       "      <td>$4.377B</td>\n",
       "      <td>Acquired</td>\n",
       "      <td>25</td>\n",
       "      <td>5</td>\n",
       "      <td>2</td>\n",
       "    </tr>\n",
       "  </tbody>\n",
       "</table>\n",
       "</div>"
      ],
      "text/plain": [
       "      Company Valuation ($B) Date Joined        Country           City  \\\n",
       "0   Bytedance          $140     4/7/2017          China        Beijing   \n",
       "1      SpaceX       $100.30    12/1/2012  United States      Hawthorne   \n",
       "2      Stripe           $95    1/23/2014  United States  San Francisco   \n",
       "3      Klarna        $45.60   12/12/2011         Sweden      Stockholm   \n",
       "4  Epic Games           $42   10/26/2018  United States           Cary   \n",
       "\n",
       "                  Industry                                  Select Inverstors  \\\n",
       "0  Artificial intelligence  Sequoia Capital China, SIG Asia Investments, S...   \n",
       "1                    Other  Founders Fund, Draper Fisher Jurvetson, Rothen...   \n",
       "2                  Fintech        Khosla Ventures, LowercaseCapital, capitalG   \n",
       "3                  Fintech  Institutional Venture Partners, Sequoia Capita...   \n",
       "4                    Other              Tencent Holdings, KKR, Smash Ventures   \n",
       "\n",
       "  Founded Year Total Raised Financial Stage Investors Count Deal Terms  \\\n",
       "0         2012       $7.44B             IPO              28          8   \n",
       "1         2002      $6.874B            None              29         12   \n",
       "2         2010      $2.901B           Asset              39         12   \n",
       "3         2005      $3.472B        Acquired              56         13   \n",
       "4         1991      $4.377B        Acquired              25          5   \n",
       "\n",
       "  Portfolio Exits  \n",
       "0               5  \n",
       "1            None  \n",
       "2               1  \n",
       "3               1  \n",
       "4               2  "
      ]
     },
     "execution_count": 277,
     "metadata": {},
     "output_type": "execute_result"
    }
   ],
   "source": [
    "df.head()"
   ]
  },
  {
   "cell_type": "markdown",
   "id": "5f1c9036",
   "metadata": {},
   "source": [
    "# Data Cleaning"
   ]
  },
  {
   "cell_type": "code",
   "execution_count": 278,
   "id": "e013f210",
   "metadata": {
    "scrolled": true
   },
   "outputs": [],
   "source": [
    "# Fix simple spelling error\n",
    "df = df.rename(columns={'Select Inverstors': 'Select Investors'})"
   ]
  },
  {
   "cell_type": "code",
   "execution_count": 279,
   "id": "712cbaef",
   "metadata": {},
   "outputs": [],
   "source": [
    "# Replace other spelling/input errors\n",
    "df.replace({\n",
    "    'Artificial intelligence': 'Artificial Intelligence',\n",
    "    'Finttech': 'Fintech',\n",
    "    'United States,': 'United States',\n",
    "    'Indonesia,': 'Indonesia',\n",
    "}, inplace=True)"
   ]
  },
  {
   "cell_type": "code",
   "execution_count": 280,
   "id": "f1599276",
   "metadata": {},
   "outputs": [],
   "source": [
    "# Get rid of $ symbol and convert string column to float\n",
    "df['Valuation ($B)'] = df['Valuation ($B)'].replace({'\\$': ''}, regex=True)\n",
    "df['Valuation ($B)'] = df['Valuation ($B)'].astype(float)"
   ]
  },
  {
   "cell_type": "code",
   "execution_count": 281,
   "id": "3c3a6ee8",
   "metadata": {},
   "outputs": [],
   "source": [
    "# Also converting Investor Count will be helpful later\n",
    "# First, replace None values with 0\n",
    "df['Investors Count'] = df['Investors Count'].replace({'None': '0'}, regex=True)\n",
    "df['Investors Count'] = df['Investors Count'].astype(float)"
   ]
  },
  {
   "cell_type": "code",
   "execution_count": 282,
   "id": "122ad59f",
   "metadata": {},
   "outputs": [],
   "source": [
    "df['Deal Terms'] = df['Deal Terms'].replace({'None': '0'}, regex=True)\n",
    "df['Deal Terms'] = df['Deal Terms'].astype(float)"
   ]
  },
  {
   "cell_type": "code",
   "execution_count": 283,
   "id": "1c491635",
   "metadata": {},
   "outputs": [],
   "source": [
    "# Many characters need replaced in this column\n",
    "df['Total Raised'] = df['Total Raised'].replace({'\\$': ''}, regex=True)\n",
    "df['Total Raised'] = df['Total Raised'].replace({'M': ''}, regex=True)\n",
    "df['Total Raised'] = df['Total Raised'].replace({'B': ''}, regex=True)\n",
    "df['Total Raised'] = df['Total Raised'].replace({'K': ''}, regex=True)\n",
    "df['Total Raised'] = df['Total Raised'].replace({'None': 0}, regex=True)\n",
    "df['Total Raised'] = df['Total Raised'].astype(float)"
   ]
  },
  {
   "cell_type": "code",
   "execution_count": 284,
   "id": "459417e1",
   "metadata": {
    "scrolled": true
   },
   "outputs": [
    {
     "data": {
      "text/plain": [
       "array(['Artificial Intelligence', 'Other', 'Fintech',\n",
       "       'Internet software & services',\n",
       "       'Supply chain, logistics, & delivery',\n",
       "       'Data management & analytics',\n",
       "       'Sequoia Capital, Thoma Bravo, Softbank',\n",
       "       'E-commerce & direct-to-consumer', 'Edtech', 'Hardware',\n",
       "       'Consumer & retail', 'Health', 'Auto & transportation',\n",
       "       'Cybersecurity', 'Mobile & telecommunications', 'Travel',\n",
       "       'Kuang-Chi',\n",
       "       'Tiger Global Management, Tiger Brokers, DCM Ventures',\n",
       "       'Jungle Ventures, Accel, Venture Highway',\n",
       "       '500 Global, Rakuten Ventures, Golden Gate Ventures',\n",
       "       'Sequoia Capital China, ING, Alibaba Entrepreneurs Fund',\n",
       "       'Sequoia Capital China, Shunwei Capital Partners, Qualgro',\n",
       "       'Dragonfly Captial, Qiming Venture Partners, DST Global',\n",
       "       'SingTel Innov8, Alpha JWC Ventures, Golden Gate Ventures',\n",
       "       'Mundi Ventures, Doqling Capital Partners, Activant Capital',\n",
       "       'Vertex Ventures SE Asia, Global Founders Capital, Visa Ventures',\n",
       "       'Andreessen Horowitz, DST Global, IDG Capital',\n",
       "       \"B Capital Group, Monk's Hill Ventures, Dynamic Parcel Distribution\",\n",
       "       'Temasek, Guggenheim Investments, Qatar Investment Authority'],\n",
       "      dtype=object)"
      ]
     },
     "execution_count": 284,
     "metadata": {},
     "output_type": "execute_result"
    }
   ],
   "source": [
    "# Many Cities and Industries are mistakenly swapped\n",
    "df['Industry'].unique()"
   ]
  },
  {
   "cell_type": "code",
   "execution_count": 285,
   "id": "7250526c",
   "metadata": {},
   "outputs": [
    {
     "data": {
      "text/plain": [
       "Fintech                                                               206\n",
       "Internet software & services                                          192\n",
       "E-commerce & direct-to-consumer                                       107\n",
       "Artificial Intelligence                                                80\n",
       "Health                                                                 69\n",
       "Supply chain, logistics, & delivery                                    57\n",
       "Other                                                                  56\n",
       "Cybersecurity                                                          49\n",
       "Data management & analytics                                            41\n",
       "Mobile & telecommunications                                            37\n",
       "Hardware                                                               33\n",
       "Auto & transportation                                                  29\n",
       "Edtech                                                                 28\n",
       "Consumer & retail                                                      25\n",
       "Travel                                                                 14\n",
       "Dragonfly Captial, Qiming Venture Partners, DST Global                  1\n",
       "B Capital Group, Monk's Hill Ventures, Dynamic Parcel Distribution      1\n",
       "Andreessen Horowitz, DST Global, IDG Capital                            1\n",
       "Vertex Ventures SE Asia, Global Founders Capital, Visa Ventures         1\n",
       "Mundi Ventures, Doqling Capital Partners, Activant Capital              1\n",
       "SingTel Innov8, Alpha JWC Ventures, Golden Gate Ventures                1\n",
       "500 Global, Rakuten Ventures, Golden Gate Ventures                      1\n",
       "Sequoia Capital China, Shunwei Capital Partners, Qualgro                1\n",
       "Sequoia Capital China, ING, Alibaba Entrepreneurs Fund                  1\n",
       "Jungle Ventures, Accel, Venture Highway                                 1\n",
       "Tiger Global Management, Tiger Brokers, DCM Ventures                    1\n",
       "Kuang-Chi                                                               1\n",
       "Sequoia Capital, Thoma Bravo, Softbank                                  1\n",
       "Temasek, Guggenheim Investments, Qatar Investment Authority             1\n",
       "Name: Industry, dtype: int64"
      ]
     },
     "execution_count": 285,
     "metadata": {},
     "output_type": "execute_result"
    }
   ],
   "source": [
    "df['Industry'].value_counts()"
   ]
  },
  {
   "cell_type": "code",
   "execution_count": 286,
   "id": "c89dac38",
   "metadata": {},
   "outputs": [],
   "source": [
    "# Swap columns with invalid input\n",
    "industries = ['Artificial intelligence', 'Other', 'Fintech',\n",
    "       'Internet software & services',\n",
    "       'Supply chain, logistics, & delivery',\n",
    "       'Data management & analytics', 'E-commerce & direct-to-consumer', 'Edtech', 'Hardware',\n",
    "       'Consumer & retail', 'Health', 'Auto & transportation',\n",
    "       'Cybersecurity', 'Mobile & telecommunications', 'Travel']\n",
    "\n",
    "df['Industry'], df['City'] = np.where(~df['Industry'].isin(industries), (df['City'],df['Industry']), (df['Industry'],df['City']))\n",
    "df['Industry'], df['City'] = np.where(~df['Industry'].isin(industries), (df['City'],df['Industry']), (df['Industry'],df['City']))"
   ]
  },
  {
   "cell_type": "code",
   "execution_count": 287,
   "id": "53c377b6",
   "metadata": {
    "scrolled": true
   },
   "outputs": [
    {
     "data": {
      "text/plain": [
       "Fintech                                212\n",
       "Internet software & services           194\n",
       "E-commerce & direct-to-consumer        111\n",
       "Artificial Intelligence                 80\n",
       "Health                                  69\n",
       "Supply chain, logistics, & delivery     58\n",
       "Other                                   56\n",
       "Cybersecurity                           49\n",
       "Data management & analytics             41\n",
       "Mobile & telecommunications             38\n",
       "Hardware                                33\n",
       "Auto & transportation                   29\n",
       "Edtech                                  28\n",
       "Consumer & retail                       25\n",
       "Travel                                  14\n",
       "Name: Industry, dtype: int64"
      ]
     },
     "execution_count": 287,
     "metadata": {},
     "output_type": "execute_result"
    }
   ],
   "source": [
    "df['Industry'].value_counts()"
   ]
  },
  {
   "cell_type": "markdown",
   "id": "4f681bc3",
   "metadata": {},
   "source": [
    "# Univariate Analysis"
   ]
  },
  {
   "cell_type": "markdown",
   "id": "6ba78279",
   "metadata": {},
   "source": [
    "## To which industry do most unicorns belong?"
   ]
  },
  {
   "cell_type": "code",
   "execution_count": 288,
   "id": "d086fb3a",
   "metadata": {
    "scrolled": false
   },
   "outputs": [
    {
     "data": {
      "text/plain": [
       "Fintech                            212\n",
       "Internet software & services       194\n",
       "E-commerce & direct-to-consumer    111\n",
       "Artificial Intelligence             80\n",
       "Health                              69\n",
       "Name: Industry, dtype: int64"
      ]
     },
     "execution_count": 288,
     "metadata": {},
     "output_type": "execute_result"
    }
   ],
   "source": [
    "bar_df = df['Industry'].value_counts()\n",
    "bar_df.head()"
   ]
  },
  {
   "cell_type": "code",
   "execution_count": 289,
   "id": "ef3de70b",
   "metadata": {},
   "outputs": [
    {
     "data": {
      "image/png": "[encoded data removed]",
      "text/plain": [
       "<Figure size 720x432 with 1 Axes>"
      ]
     },
     "metadata": {
      "needs_background": "light"
     },
     "output_type": "display_data"
    }
   ],
   "source": [
    "fig, ax = plt.subplots(figsize=(10,6))\n",
    "ax = df['Industry'].value_counts().plot(kind='barh')\n",
    "ax.set(xlabel='Count', ylabel='Industry', title='Number of Unicorns by Industry')\n",
    "plt.show()"
   ]
  },
  {
   "cell_type": "markdown",
   "id": "f0a495e9",
   "metadata": {},
   "source": [
    "## From which country do most unicorns originate?"
   ]
  },
  {
   "cell_type": "code",
   "execution_count": 290,
   "id": "e979bce1",
   "metadata": {},
   "outputs": [
    {
     "data": {
      "text/plain": [
       "United States     536\n",
       "China             168\n",
       "India              63\n",
       "United Kingdom     42\n",
       "France             24\n",
       "Name: Country, dtype: int64"
      ]
     },
     "execution_count": 290,
     "metadata": {},
     "output_type": "execute_result"
    }
   ],
   "source": [
    "# Top 5 countries\n",
    "sizes = df['Country'].value_counts()[:5]\n",
    "sizes"
   ]
  },
  {
   "cell_type": "code",
   "execution_count": 291,
   "id": "b9654201",
   "metadata": {},
   "outputs": [
    {
     "data": {
      "text/plain": [
       "204"
      ]
     },
     "execution_count": 291,
     "metadata": {},
     "output_type": "execute_result"
    }
   ],
   "source": [
    "# Other unicorns not originating from the top 5 countries\n",
    "sumOther = df['Country'].value_counts()[5:].sum()\n",
    "sumOther"
   ]
  },
  {
   "cell_type": "code",
   "execution_count": 292,
   "id": "4fc5e191",
   "metadata": {},
   "outputs": [],
   "source": [
    "sizes2 = pd.Series(np.concatenate((sizes.values, [sumOther])))"
   ]
  },
  {
   "cell_type": "code",
   "execution_count": 293,
   "id": "32d3621c",
   "metadata": {},
   "outputs": [
    {
     "data": {
      "image/png": "[encoded data removed]",
      "text/plain": [
       "<Figure size 720x576 with 1 Axes>"
      ]
     },
     "metadata": {},
     "output_type": "display_data"
    }
   ],
   "source": [
    "fig, ax1 = plt.subplots(figsize=(10,8))\n",
    "ax1.pie(sizes2, explode=(0,0,0,0,0,0.1), labels=['United States', 'China', 'India', 'United Kingdom', 'France', 'Other'], \n",
    "        autopct='%1.1f%%', startangle=90)\n",
    "ax1.set(title='Unicorn Country of Origin')\n",
    "plt.show()"
   ]
  },
  {
   "cell_type": "markdown",
   "id": "cfffca8f",
   "metadata": {},
   "source": [
    "### Which country's unicorns have produced the most value?"
   ]
  },
  {
   "cell_type": "code",
   "execution_count": 294,
   "id": "442fd78d",
   "metadata": {},
   "outputs": [],
   "source": [
    "country_df = df.groupby('Country')"
   ]
  },
  {
   "cell_type": "code",
   "execution_count": 295,
   "id": "06794b48",
   "metadata": {},
   "outputs": [
    {
     "data": {
      "text/plain": [
       "Country\n",
       "United States     1829.74\n",
       "China              572.69\n",
       "India              187.05\n",
       "United Kingdom     177.68\n",
       "Germany             66.70\n",
       "Name: Valuation ($B), dtype: float64"
      ]
     },
     "execution_count": 295,
     "metadata": {},
     "output_type": "execute_result"
    }
   ],
   "source": [
    "ax2 = country_df['Valuation ($B)'].sum().sort_values(ascending=False)[:5]\n",
    "ax2"
   ]
  },
  {
   "cell_type": "code",
   "execution_count": 296,
   "id": "a461ca9d",
   "metadata": {
    "scrolled": true
   },
   "outputs": [
    {
     "data": {
      "text/plain": [
       "<AxesSubplot:title={'center':'Top five Countries'}, xlabel='Country', ylabel='Valuation ($B)'>"
      ]
     },
     "execution_count": 296,
     "metadata": {},
     "output_type": "execute_result"
    },
    {
     "data": {
      "image/png": "[encoded data removed]",
      "text/plain": [
       "<Figure size 432x288 with 1 Axes>"
      ]
     },
     "metadata": {
      "needs_background": "light"
     },
     "output_type": "display_data"
    }
   ],
   "source": [
    "ax2.plot(kind='bar', title='Top five Countries', ylabel='Valuation ($B)')"
   ]
  },
  {
   "cell_type": "markdown",
   "id": "215d51f3",
   "metadata": {},
   "source": [
    "# Bivariate Analysis"
   ]
  },
  {
   "cell_type": "markdown",
   "id": "018d437b",
   "metadata": {},
   "source": [
    "## What relationships can be found between nominal variables?"
   ]
  },
  {
   "cell_type": "code",
   "execution_count": 297,
   "id": "b4c5e712",
   "metadata": {},
   "outputs": [
    {
     "data": {
      "text/html": [
       "<div>\n",
       "<style scoped>\n",
       "    .dataframe tbody tr th:only-of-type {\n",
       "        vertical-align: middle;\n",
       "    }\n",
       "\n",
       "    .dataframe tbody tr th {\n",
       "        vertical-align: top;\n",
       "    }\n",
       "\n",
       "    .dataframe thead th {\n",
       "        text-align: right;\n",
       "    }\n",
       "</style>\n",
       "<table border=\"1\" class=\"dataframe\">\n",
       "  <thead>\n",
       "    <tr style=\"text-align: right;\">\n",
       "      <th></th>\n",
       "      <th>Valuation ($B)</th>\n",
       "      <th>Total Raised</th>\n",
       "      <th>Investors Count</th>\n",
       "      <th>Deal Terms</th>\n",
       "    </tr>\n",
       "  </thead>\n",
       "  <tbody>\n",
       "    <tr>\n",
       "      <th>0</th>\n",
       "      <td>140.0</td>\n",
       "      <td>7.440</td>\n",
       "      <td>28.0</td>\n",
       "      <td>8.0</td>\n",
       "    </tr>\n",
       "    <tr>\n",
       "      <th>1</th>\n",
       "      <td>100.3</td>\n",
       "      <td>6.874</td>\n",
       "      <td>29.0</td>\n",
       "      <td>12.0</td>\n",
       "    </tr>\n",
       "    <tr>\n",
       "      <th>2</th>\n",
       "      <td>95.0</td>\n",
       "      <td>2.901</td>\n",
       "      <td>39.0</td>\n",
       "      <td>12.0</td>\n",
       "    </tr>\n",
       "    <tr>\n",
       "      <th>3</th>\n",
       "      <td>45.6</td>\n",
       "      <td>3.472</td>\n",
       "      <td>56.0</td>\n",
       "      <td>13.0</td>\n",
       "    </tr>\n",
       "    <tr>\n",
       "      <th>4</th>\n",
       "      <td>42.0</td>\n",
       "      <td>4.377</td>\n",
       "      <td>25.0</td>\n",
       "      <td>5.0</td>\n",
       "    </tr>\n",
       "  </tbody>\n",
       "</table>\n",
       "</div>"
      ],
      "text/plain": [
       "   Valuation ($B)  Total Raised  Investors Count  Deal Terms\n",
       "0           140.0         7.440             28.0         8.0\n",
       "1           100.3         6.874             29.0        12.0\n",
       "2            95.0         2.901             39.0        12.0\n",
       "3            45.6         3.472             56.0        13.0\n",
       "4            42.0         4.377             25.0         5.0"
      ]
     },
     "execution_count": 297,
     "metadata": {},
     "output_type": "execute_result"
    }
   ],
   "source": [
    "# Create dataframe with relevant variables\n",
    "matrix_df = df[['Valuation ($B)', 'Total Raised', 'Investors Count', 'Deal Terms']]\n",
    "matrix_df.head()"
   ]
  },
  {
   "cell_type": "code",
   "execution_count": 298,
   "id": "c2b8cf85",
   "metadata": {},
   "outputs": [],
   "source": [
    "corr = matrix_df.corr()"
   ]
  },
  {
   "cell_type": "code",
   "execution_count": 299,
   "id": "4d45f888",
   "metadata": {},
   "outputs": [
    {
     "data": {
      "text/plain": [
       "[Text(0.5, 0, 'Valuation ($B)'),\n",
       " Text(1.5, 0, 'Total Raised'),\n",
       " Text(2.5, 0, 'Investors Count'),\n",
       " Text(3.5, 0, 'Deal Terms')]"
      ]
     },
     "execution_count": 299,
     "metadata": {},
     "output_type": "execute_result"
    },
    {
     "data": {
      "image/png": "[encoded data removed]",
      "text/plain": [
       "<Figure size 432x288 with 2 Axes>"
      ]
     },
     "metadata": {
      "needs_background": "light"
     },
     "output_type": "display_data"
    }
   ],
   "source": [
    "ax = sns.heatmap(corr, cmap=sns.diverging_palette(20, 220, n=200), square=True)\n",
    "ax.set_xticklabels(ax.get_xticklabels(), \n",
    "                   rotation=45, \n",
    "                   horizontalalignment='right')"
   ]
  },
  {
   "cell_type": "markdown",
   "id": "d1afa8b8",
   "metadata": {},
   "source": [
    "### As the heatmap shows, no obvious relationship can be found between the nominal variables included in this dataset."
   ]
  }
 ],
 "metadata": {
  "kernelspec": {
   "display_name": "Python 3 (ipykernel)",
   "language": "python",
   "name": "python3"
  },
  "language_info": {
   "codemirror_mode": {
    "name": "ipython",
    "version": 3
   },
   "file_extension": ".py",
   "mimetype": "text/x-python",
   "name": "python",
   "nbconvert_exporter": "python",
   "pygments_lexer": "ipython3",
   "version": "3.9.7"
  }
 },
 "nbformat": 4,
 "nbformat_minor": 5
}
